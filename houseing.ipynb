{
 "cells": [
  {
   "cell_type": "code",
   "execution_count": 82,
   "metadata": {},
   "outputs": [],
   "source": [
    "import numpy as np\n",
    "import pandas as pd\n",
    "import matplotlib.pyplot as plt\n",
    "import seaborn as sns\n",
    "from sklearn.model_selection import train_test_split\n",
    "from sklearn.ensemble import RandomForestRegressor,  RandomForestRegressor, ExtraTreesRegressor, GradientBoostingRegressor\n",
    "from lightgbm import LGBMRegressor\n",
    "from sklearn.linear_model import ElasticNet\n",
    "# See all cols and rows\n",
    "pd.set_option('display.max_columns', None)\n",
    "pd.set_option('display.max_rows', 90)"
   ]
  },
  {
   "cell_type": "code",
   "execution_count": 20,
   "metadata": {},
   "outputs": [],
   "source": [
    "# Read in data\n",
    "train_raw = pd.read_csv('data/train.csv')\n",
    "test_raw = pd.read_csv('data/test.csv')\n",
    "sample_sub = pd.read_csv('data/sample_submission.csv')"
   ]
  },
  {
   "cell_type": "code",
   "execution_count": null,
   "metadata": {},
   "outputs": [],
   "source": [
    "train_raw"
   ]
  },
  {
   "cell_type": "code",
   "execution_count": null,
   "metadata": {},
   "outputs": [],
   "source": [
    "test_raw"
   ]
  },
  {
   "cell_type": "code",
   "execution_count": null,
   "metadata": {},
   "outputs": [],
   "source": [
    "sample_sub"
   ]
  },
  {
   "cell_type": "code",
   "execution_count": null,
   "metadata": {},
   "outputs": [],
   "source": [
    "train_raw.isna().sum()"
   ]
  },
  {
   "cell_type": "code",
   "execution_count": null,
   "metadata": {},
   "outputs": [],
   "source": [
    "test_raw.isna().sum()"
   ]
  },
  {
   "attachments": {},
   "cell_type": "markdown",
   "metadata": {},
   "source": [
    "# Combine train test for Missing value imputation"
   ]
  },
  {
   "cell_type": "code",
   "execution_count": null,
   "metadata": {},
   "outputs": [],
   "source": [
    "# Save sale price for later use\n",
    "target = train_raw['SalePrice']\n",
    "# Save for submission\n",
    "test_ids = test_raw['Id']\n",
    "\n",
    "# Drop Id and sale price as not needed right now\n",
    "train1 = train_raw.drop(['Id', 'SalePrice'], axis=1)\n",
    "test1 = test_raw.drop(['Id'], axis=1)\n",
    "\n",
    "# Make sure not to shuffle data so concat on top of each other\n",
    "data1 = pd.concat([train1, test1], axis=0).reset_index(drop=True)\n",
    "\n",
    "# Drop to make cleaner data\n",
    "data1 = data1.drop(['GarageYrBlt'], axis=1)\n",
    "\n",
    "data1"
   ]
  },
  {
   "cell_type": "code",
   "execution_count": 57,
   "metadata": {},
   "outputs": [
    {
     "name": "stdout",
     "output_type": "stream",
     "text": [
      "True\n"
     ]
    }
   ],
   "source": [
    "target\n",
    "target =  pd.DataFrame(target)\n",
    "print(isinstance(target, pd.DataFrame))"
   ]
  },
  {
   "attachments": {},
   "cell_type": "markdown",
   "metadata": {},
   "source": [
    "# Cleaning"
   ]
  },
  {
   "attachments": {},
   "cell_type": "markdown",
   "metadata": {},
   "source": [
    "## Set Proper Data Types"
   ]
  },
  {
   "cell_type": "code",
   "execution_count": null,
   "metadata": {},
   "outputs": [],
   "source": [
    "# Check all numeric columns to find features that should be categorical but encoded as numeric\n",
    "data1.select_dtypes(np.number)"
   ]
  },
  {
   "cell_type": "code",
   "execution_count": 29,
   "metadata": {},
   "outputs": [],
   "source": [
    "data2 = data1.copy()"
   ]
  },
  {
   "cell_type": "code",
   "execution_count": 30,
   "metadata": {},
   "outputs": [],
   "source": [
    "# Change to string since this categorical feature is encoded as an integer\n",
    "data2['MSSubClass'] = data2['MSSubClass'].astype(str)"
   ]
  },
  {
   "attachments": {},
   "cell_type": "markdown",
   "metadata": {},
   "source": [
    "## Missing Value Imputation"
   ]
  },
  {
   "attachments": {},
   "cell_type": "markdown",
   "metadata": {},
   "source": [
    "### Categorical Missing Values"
   ]
  },
  {
   "cell_type": "code",
   "execution_count": null,
   "metadata": {},
   "outputs": [],
   "source": [
    "# See if a deature has at least 1 missing value of type object (so it only gets categorical values)\n",
    "data2.select_dtypes('object').loc[:, data2.isna().sum() > 0].columns"
   ]
  },
  {
   "cell_type": "code",
   "execution_count": 32,
   "metadata": {},
   "outputs": [],
   "source": [
    "# Go through each feature and figure out when to impute and whether or not missing value is a valid value\n",
    "\n",
    "# Impute using None for features where NA has meaning\n",
    "for column in [\n",
    "    'Alley',\n",
    "    'BsmtQual',\n",
    "    'BsmtCond',\n",
    "    'BsmtExposure',\n",
    "    'BsmtFinType1',\n",
    "    'BsmtFinType2',\n",
    "    'FireplaceQu',\n",
    "    'GarageType',\n",
    "    'GarageFinish',\n",
    "    'GarageQual',\n",
    "    'GarageCond',\n",
    "    'PoolQC',\n",
    "    'Fence',\n",
    "    'MiscFeature'\n",
    "]:\n",
    "    data2[column] = data2[column].fillna('None')\n",
    "\n",
    "# Impute using the column mode for features where NA actually means missing value\n",
    "for column in [\n",
    "    'MSZoning', \n",
    "    'Utilities',\n",
    "    'Exterior1st',\n",
    "    'Exterior2nd',\n",
    "    'MasVnrType',\n",
    "    'Electrical',\n",
    "    'KitchenQual',\n",
    "    'Functional',\n",
    "    'SaleType'\n",
    "]:\n",
    "    data2[column] = data2[column].fillna(data2[column].mode()[0])\n",
    "\n"
   ]
  },
  {
   "attachments": {},
   "cell_type": "markdown",
   "metadata": {},
   "source": [
    "## Numeric Missing Values"
   ]
  },
  {
   "cell_type": "code",
   "execution_count": null,
   "metadata": {},
   "outputs": [],
   "source": [
    "data3 = data2.copy()\n",
    "data3.select_dtypes(np.number).isna().sum()"
   ]
  },
  {
   "cell_type": "code",
   "execution_count": null,
   "metadata": {},
   "outputs": [],
   "source": [
    "data3.select_dtypes(np.number).loc[:, data3.isna().sum() > 0].columns"
   ]
  },
  {
   "cell_type": "code",
   "execution_count": null,
   "metadata": {},
   "outputs": [],
   "source": [
    "from sklearn.impute import KNNImputer\n",
    "imputer = KNNImputer(n_neighbors=5)\n",
    "columns_to_impute = [\n",
    "                    'LotFrontage',\n",
    "                    'MasVnrArea', \n",
    "                    'BsmtFinSF1', \n",
    "                    'BsmtFinSF2', \n",
    "                    'BsmtUnfSF', \n",
    "                    'TotalBsmtSF', \n",
    "                    'BsmtFullBath', \n",
    "                    'BsmtHalfBath', \n",
    "                    'GarageCars', \n",
    "                    'GarageArea']\n",
    "data_to_impute = data3[columns_to_impute]\n",
    "\n",
    "imputed_data = imputer.fit_transform(data_to_impute)\n",
    "data3[columns_to_impute] = imputed_data\n",
    "\n",
    "data3.head"
   ]
  },
  {
   "cell_type": "code",
   "execution_count": 36,
   "metadata": {},
   "outputs": [
    {
     "name": "stdout",
     "output_type": "stream",
     "text": [
      "True\n",
      "(1460, 78)\n"
     ]
    }
   ],
   "source": [
    "# copy of Data4 to be used for pycaret - before onehot & logscaler\n",
    "pycaret = data3[:train_raw.shape[0]].copy()\n",
    "print(isinstance(pycaret, pd.DataFrame))\n",
    "print(pycaret.shape)"
   ]
  },
  {
   "attachments": {},
   "cell_type": "markdown",
   "metadata": {},
   "source": [
    "# Feature Transfomations"
   ]
  },
  {
   "cell_type": "code",
   "execution_count": null,
   "metadata": {},
   "outputs": [],
   "source": [
    "from scipy.stats import skew\n",
    "numeric_cols = data3.select_dtypes(np.number).columns\n",
    "numeric_cols\n",
    "# skew(data3['LotFrontage'])"
   ]
  },
  {
   "cell_type": "code",
   "execution_count": 38,
   "metadata": {},
   "outputs": [
    {
     "data": {
      "image/png": "[encoded data removed]",
      "text/plain": [
       "<Figure size 640x480 with 1 Axes>"
      ]
     },
     "metadata": {},
     "output_type": "display_data"
    }
   ],
   "source": [
    "for i in numeric_cols:\n",
    "    data3[i].hist(bins=20)\n",
    "    # plt.show()"
   ]
  },
  {
   "cell_type": "code",
   "execution_count": 39,
   "metadata": {},
   "outputs": [],
   "source": [
    "skews = {}\n",
    "for i in numeric_cols:\n",
    "    # skews.append(i, abs(skew(data3[i])))\n",
    "    skews[i] = abs(skew(data3[i]))\n",
    "\n",
    "\n",
    "for i in numeric_cols:\n",
    "    if skews[i] > 0.5:\n",
    "        data3[i] = np.log1p(data3[i])\n",
    "\n"
   ]
  },
  {
   "cell_type": "code",
   "execution_count": 40,
   "metadata": {},
   "outputs": [
    {
     "data": {
      "image/png": "[encoded data removed]",
      "text/plain": [
       "<Figure size 640x480 with 1 Axes>"
      ]
     },
     "metadata": {},
     "output_type": "display_data"
    }
   ],
   "source": [
    "for i in numeric_cols:\n",
    "    data3[i].hist(bins=20)\n",
    "    # plt.show()"
   ]
  },
  {
   "attachments": {},
   "cell_type": "markdown",
   "metadata": {},
   "source": [
    "# Encoding"
   ]
  },
  {
   "cell_type": "code",
   "execution_count": null,
   "metadata": {},
   "outputs": [],
   "source": [
    "data4 = data3.copy()\n",
    "data4"
   ]
  },
  {
   "cell_type": "code",
   "execution_count": 42,
   "metadata": {},
   "outputs": [
    {
     "data": {
      "text/plain": [
       "(2919, 316)"
      ]
     },
     "execution_count": 42,
     "metadata": {},
     "output_type": "execute_result"
    }
   ],
   "source": [
    "data4 = pd.get_dummies(data4)\n",
    "data5 = data4.copy()\n",
    "data5.shape"
   ]
  },
  {
   "attachments": {},
   "cell_type": "markdown",
   "metadata": {},
   "source": [
    "# Scaling"
   ]
  },
  {
   "cell_type": "code",
   "execution_count": 43,
   "metadata": {},
   "outputs": [],
   "source": [
    "from sklearn.preprocessing import StandardScaler\n",
    "scaler = StandardScaler()\n",
    "scaler.fit(data5)\n",
    "\n",
    "data5 = pd.DataFrame(scaler.transform(data5), index=data4.index, columns=data4.columns)\n"
   ]
  },
  {
   "cell_type": "code",
   "execution_count": null,
   "metadata": {},
   "outputs": [],
   "source": [
    "## copy of Data5 for pycaret - after onehot & standard/logscaler\n",
    "pycaret1 = data5[:train_raw.shape[0]].copy()\n",
    "print(isinstance(pycaret1, pd.DataFrame))\n",
    "print(pycaret1.shape)\n",
    "pycaretY = pd.concat([pycaret1, target['SalePrice']], axis=1).reset_index(drop=True)\n",
    "print(isinstance(pycaret1, pd.DataFrame))\n",
    "print(pycaretY.shape)\n",
    "print(pycaretY.head())"
   ]
  },
  {
   "attachments": {},
   "cell_type": "markdown",
   "metadata": {},
   "source": [
    "## Pycaret Model Selection"
   ]
  },
  {
   "cell_type": "code",
   "execution_count": 78,
   "metadata": {},
   "outputs": [
    {
     "name": "stdout",
     "output_type": "stream",
     "text": [
      "3.0.0\n"
     ]
    },
    {
     "data": {
      "text/html": [
       "<style type=\"text/css\">\n",
       "#T_a893d_row8_col1 {\n",
       "  background-color: lightgreen;\n",
       "}\n",
       "</style>\n",
       "<table id=\"T_a893d\">\n",
       "  <thead>\n",
       "    <tr>\n",
       "      <th class=\"blank level0\" >&nbsp;</th>\n",
       "      <th id=\"T_a893d_level0_col0\" class=\"col_heading level0 col0\" >Description</th>\n",
       "      <th id=\"T_a893d_level0_col1\" class=\"col_heading level0 col1\" >Value</th>\n",
       "    </tr>\n",
       "  </thead>\n",
       "  <tbody>\n",
       "    <tr>\n",
       "      <th id=\"T_a893d_level0_row0\" class=\"row_heading level0 row0\" >0</th>\n",
       "      <td id=\"T_a893d_row0_col0\" class=\"data row0 col0\" >Session id</td>\n",
       "      <td id=\"T_a893d_row0_col1\" class=\"data row0 col1\" >42</td>\n",
       "    </tr>\n",
       "    <tr>\n",
       "      <th id=\"T_a893d_level0_row1\" class=\"row_heading level0 row1\" >1</th>\n",
       "      <td id=\"T_a893d_row1_col0\" class=\"data row1 col0\" >Target</td>\n",
       "      <td id=\"T_a893d_row1_col1\" class=\"data row1 col1\" >SalePrice</td>\n",
       "    </tr>\n",
       "    <tr>\n",
       "      <th id=\"T_a893d_level0_row2\" class=\"row_heading level0 row2\" >2</th>\n",
       "      <td id=\"T_a893d_row2_col0\" class=\"data row2 col0\" >Target type</td>\n",
       "      <td id=\"T_a893d_row2_col1\" class=\"data row2 col1\" >Regression</td>\n",
       "    </tr>\n",
       "    <tr>\n",
       "      <th id=\"T_a893d_level0_row3\" class=\"row_heading level0 row3\" >3</th>\n",
       "      <td id=\"T_a893d_row3_col0\" class=\"data row3 col0\" >Original data shape</td>\n",
       "      <td id=\"T_a893d_row3_col1\" class=\"data row3 col1\" >(1460, 317)</td>\n",
       "    </tr>\n",
       "    <tr>\n",
       "      <th id=\"T_a893d_level0_row4\" class=\"row_heading level0 row4\" >4</th>\n",
       "      <td id=\"T_a893d_row4_col0\" class=\"data row4 col0\" >Transformed data shape</td>\n",
       "      <td id=\"T_a893d_row4_col1\" class=\"data row4 col1\" >(1460, 317)</td>\n",
       "    </tr>\n",
       "    <tr>\n",
       "      <th id=\"T_a893d_level0_row5\" class=\"row_heading level0 row5\" >5</th>\n",
       "      <td id=\"T_a893d_row5_col0\" class=\"data row5 col0\" >Transformed train set shape</td>\n",
       "      <td id=\"T_a893d_row5_col1\" class=\"data row5 col1\" >(1021, 317)</td>\n",
       "    </tr>\n",
       "    <tr>\n",
       "      <th id=\"T_a893d_level0_row6\" class=\"row_heading level0 row6\" >6</th>\n",
       "      <td id=\"T_a893d_row6_col0\" class=\"data row6 col0\" >Transformed test set shape</td>\n",
       "      <td id=\"T_a893d_row6_col1\" class=\"data row6 col1\" >(439, 317)</td>\n",
       "    </tr>\n",
       "    <tr>\n",
       "      <th id=\"T_a893d_level0_row7\" class=\"row_heading level0 row7\" >7</th>\n",
       "      <td id=\"T_a893d_row7_col0\" class=\"data row7 col0\" >Numeric features</td>\n",
       "      <td id=\"T_a893d_row7_col1\" class=\"data row7 col1\" >316</td>\n",
       "    </tr>\n",
       "    <tr>\n",
       "      <th id=\"T_a893d_level0_row8\" class=\"row_heading level0 row8\" >8</th>\n",
       "      <td id=\"T_a893d_row8_col0\" class=\"data row8 col0\" >Preprocess</td>\n",
       "      <td id=\"T_a893d_row8_col1\" class=\"data row8 col1\" >True</td>\n",
       "    </tr>\n",
       "    <tr>\n",
       "      <th id=\"T_a893d_level0_row9\" class=\"row_heading level0 row9\" >9</th>\n",
       "      <td id=\"T_a893d_row9_col0\" class=\"data row9 col0\" >Imputation type</td>\n",
       "      <td id=\"T_a893d_row9_col1\" class=\"data row9 col1\" >simple</td>\n",
       "    </tr>\n",
       "    <tr>\n",
       "      <th id=\"T_a893d_level0_row10\" class=\"row_heading level0 row10\" >10</th>\n",
       "      <td id=\"T_a893d_row10_col0\" class=\"data row10 col0\" >Numeric imputation</td>\n",
       "      <td id=\"T_a893d_row10_col1\" class=\"data row10 col1\" >mean</td>\n",
       "    </tr>\n",
       "    <tr>\n",
       "      <th id=\"T_a893d_level0_row11\" class=\"row_heading level0 row11\" >11</th>\n",
       "      <td id=\"T_a893d_row11_col0\" class=\"data row11 col0\" >Categorical imputation</td>\n",
       "      <td id=\"T_a893d_row11_col1\" class=\"data row11 col1\" >mode</td>\n",
       "    </tr>\n",
       "    <tr>\n",
       "      <th id=\"T_a893d_level0_row12\" class=\"row_heading level0 row12\" >12</th>\n",
       "      <td id=\"T_a893d_row12_col0\" class=\"data row12 col0\" >Fold Generator</td>\n",
       "      <td id=\"T_a893d_row12_col1\" class=\"data row12 col1\" >KFold</td>\n",
       "    </tr>\n",
       "    <tr>\n",
       "      <th id=\"T_a893d_level0_row13\" class=\"row_heading level0 row13\" >13</th>\n",
       "      <td id=\"T_a893d_row13_col0\" class=\"data row13 col0\" >Fold Number</td>\n",
       "      <td id=\"T_a893d_row13_col1\" class=\"data row13 col1\" >10</td>\n",
       "    </tr>\n",
       "    <tr>\n",
       "      <th id=\"T_a893d_level0_row14\" class=\"row_heading level0 row14\" >14</th>\n",
       "      <td id=\"T_a893d_row14_col0\" class=\"data row14 col0\" >CPU Jobs</td>\n",
       "      <td id=\"T_a893d_row14_col1\" class=\"data row14 col1\" >-1</td>\n",
       "    </tr>\n",
       "    <tr>\n",
       "      <th id=\"T_a893d_level0_row15\" class=\"row_heading level0 row15\" >15</th>\n",
       "      <td id=\"T_a893d_row15_col0\" class=\"data row15 col0\" >Use GPU</td>\n",
       "      <td id=\"T_a893d_row15_col1\" class=\"data row15 col1\" >False</td>\n",
       "    </tr>\n",
       "    <tr>\n",
       "      <th id=\"T_a893d_level0_row16\" class=\"row_heading level0 row16\" >16</th>\n",
       "      <td id=\"T_a893d_row16_col0\" class=\"data row16 col0\" >Log Experiment</td>\n",
       "      <td id=\"T_a893d_row16_col1\" class=\"data row16 col1\" >False</td>\n",
       "    </tr>\n",
       "    <tr>\n",
       "      <th id=\"T_a893d_level0_row17\" class=\"row_heading level0 row17\" >17</th>\n",
       "      <td id=\"T_a893d_row17_col0\" class=\"data row17 col0\" >Experiment Name</td>\n",
       "      <td id=\"T_a893d_row17_col1\" class=\"data row17 col1\" >reg-default-name</td>\n",
       "    </tr>\n",
       "    <tr>\n",
       "      <th id=\"T_a893d_level0_row18\" class=\"row_heading level0 row18\" >18</th>\n",
       "      <td id=\"T_a893d_row18_col0\" class=\"data row18 col0\" >USI</td>\n",
       "      <td id=\"T_a893d_row18_col1\" class=\"data row18 col1\" >06ea</td>\n",
       "    </tr>\n",
       "  </tbody>\n",
       "</table>\n"
      ],
      "text/plain": [
       "<pandas.io.formats.style.Styler at 0x1c96a510fa0>"
      ]
     },
     "metadata": {},
     "output_type": "display_data"
    },
    {
     "data": {
      "text/html": [
       "<div>\n",
       "<style scoped>\n",
       "    .dataframe tbody tr th:only-of-type {\n",
       "        vertical-align: middle;\n",
       "    }\n",
       "\n",
       "    .dataframe tbody tr th {\n",
       "        vertical-align: top;\n",
       "    }\n",
       "\n",
       "    .dataframe thead th {\n",
       "        text-align: right;\n",
       "    }\n",
       "</style>\n",
       "<table border=\"1\" class=\"dataframe\">\n",
       "  <thead>\n",
       "    <tr style=\"text-align: right;\">\n",
       "      <th></th>\n",
       "      <th></th>\n",
       "      <th></th>\n",
       "    </tr>\n",
       "    <tr>\n",
       "      <th></th>\n",
       "      <th></th>\n",
       "      <th></th>\n",
       "    </tr>\n",
       "  </thead>\n",
       "  <tbody>\n",
       "    <tr>\n",
       "      <th>Initiated</th>\n",
       "      <td>. . . . . . . . . . . . . . . . . .</td>\n",
       "      <td>18:28:21</td>\n",
       "    </tr>\n",
       "    <tr>\n",
       "      <th>Status</th>\n",
       "      <td>. . . . . . . . . . . . . . . . . .</td>\n",
       "      <td>Loading Dependencies</td>\n",
       "    </tr>\n",
       "    <tr>\n",
       "      <th>Estimator</th>\n",
       "      <td>. . . . . . . . . . . . . . . . . .</td>\n",
       "      <td>Compiling Library</td>\n",
       "    </tr>\n",
       "  </tbody>\n",
       "</table>\n",
       "</div>"
      ],
      "text/plain": [
       "                                                                    \n",
       "                                                                    \n",
       "Initiated  . . . . . . . . . . . . . . . . . .              18:28:21\n",
       "Status     . . . . . . . . . . . . . . . . . .  Loading Dependencies\n",
       "Estimator  . . . . . . . . . . . . . . . . . .     Compiling Library"
      ]
     },
     "metadata": {},
     "output_type": "display_data"
    },
    {
     "data": {
      "text/html": [],
      "text/plain": [
       "<IPython.core.display.HTML object>"
      ]
     },
     "metadata": {},
     "output_type": "display_data"
    },
    {
     "name": "stdout",
     "output_type": "stream",
     "text": [
      "[LGBMRegressor(random_state=42), RandomForestRegressor(n_jobs=-1, random_state=42), ExtraTreesRegressor(n_jobs=-1, random_state=42), ElasticNet(random_state=42), GradientBoostingRegressor(random_state=42)]\n"
     ]
    }
   ],
   "source": [
    "from pycaret.utils import version\n",
    "from pycaret.regression import setup\n",
    "from pycaret.regression import compare_models\n",
    "from pycaret.regression import create_model\n",
    "from pycaret.regression import evaluate_model\n",
    "\n",
    "print(version())\n",
    "setup(data=pycaretY, target='SalePrice', session_id=42)\n",
    "best_model = compare_models(fold=5, n_select=5, sort='RMSE')\n",
    "print(best_model)\n"
   ]
  },
  {
   "cell_type": "code",
   "execution_count": 87,
   "metadata": {},
   "outputs": [
    {
     "ename": "ValueError",
     "evalue": "Estimator lgbmr not available. Please see docstring for list of available estimators.",
     "output_type": "error",
     "traceback": [
      "\u001b[1;31m---------------------------------------------------------------------------\u001b[0m",
      "\u001b[1;31mValueError\u001b[0m                                Traceback (most recent call last)",
      "Cell \u001b[1;32mIn[87], line 2\u001b[0m\n\u001b[0;32m      1\u001b[0m lgbmr \u001b[39m=\u001b[39m LGBMRegressor(random_state\u001b[39m=\u001b[39m\u001b[39m42\u001b[39m)\n\u001b[1;32m----> 2\u001b[0m LBGMR_best \u001b[39m=\u001b[39m create_model(\u001b[39m'\u001b[39;49m\u001b[39mlgbmr\u001b[39;49m\u001b[39m'\u001b[39;49m)\n\u001b[0;32m      3\u001b[0m \u001b[39m# gboost_best = create_model('GradientBoostingRegressor')\u001b[39;00m\n\u001b[0;32m      4\u001b[0m \u001b[39m# elastic_nest_best = create_model('ElasticNet')\u001b[39;00m\n\u001b[0;32m      5\u001b[0m \u001b[39m# ex_trees_best = create_model('ExtraTreesRegressor')\u001b[39;00m\n\u001b[0;32m      6\u001b[0m \u001b[39m# rand_for_best = create_model('RandomForestRegressor')\u001b[39;00m\n\u001b[0;32m      7\u001b[0m evaluate_model(LBGMR_best)\n",
      "File \u001b[1;32mc:\\Users\\acost\\miniconda3\\envs\\cs4347\\lib\\site-packages\\pycaret\\utils\\generic.py:965\u001b[0m, in \u001b[0;36mcheck_if_global_is_not_none.<locals>.decorator.<locals>.wrapper\u001b[1;34m(*args, **kwargs)\u001b[0m\n\u001b[0;32m    963\u001b[0m     \u001b[39mif\u001b[39;00m globals_d[name] \u001b[39mis\u001b[39;00m \u001b[39mNone\u001b[39;00m:\n\u001b[0;32m    964\u001b[0m         \u001b[39mraise\u001b[39;00m \u001b[39mValueError\u001b[39;00m(message)\n\u001b[1;32m--> 965\u001b[0m \u001b[39mreturn\u001b[39;00m func(\u001b[39m*\u001b[39;49margs, \u001b[39m*\u001b[39;49m\u001b[39m*\u001b[39;49mkwargs)\n",
      "File \u001b[1;32mc:\\Users\\acost\\miniconda3\\envs\\cs4347\\lib\\site-packages\\pycaret\\regression\\functional.py:1000\u001b[0m, in \u001b[0;36mcreate_model\u001b[1;34m(estimator, fold, round, cross_validation, fit_kwargs, groups, experiment_custom_tags, engine, verbose, return_train_score, **kwargs)\u001b[0m\n\u001b[0;32m    871\u001b[0m \u001b[39m@check_if_global_is_not_none\u001b[39m(\u001b[39mglobals\u001b[39m(), _CURRENT_EXPERIMENT_DECORATOR_DICT)\n\u001b[0;32m    872\u001b[0m \u001b[39mdef\u001b[39;00m \u001b[39mcreate_model\u001b[39m(\n\u001b[0;32m    873\u001b[0m     estimator: Union[\u001b[39mstr\u001b[39m, Any],\n\u001b[1;32m   (...)\u001b[0m\n\u001b[0;32m    883\u001b[0m     \u001b[39m*\u001b[39m\u001b[39m*\u001b[39mkwargs,\n\u001b[0;32m    884\u001b[0m ):\n\u001b[0;32m    886\u001b[0m \u001b[39m    \u001b[39m\u001b[39m\"\"\"\u001b[39;00m\n\u001b[0;32m    887\u001b[0m \u001b[39m    This function trains and evaluates the performance of a given estimator\u001b[39;00m\n\u001b[0;32m    888\u001b[0m \u001b[39m    using cross validation. The output of this function is a score grid with\u001b[39;00m\n\u001b[1;32m   (...)\u001b[0m\n\u001b[0;32m    997\u001b[0m \n\u001b[0;32m    998\u001b[0m \u001b[39m    \"\"\"\u001b[39;00m\n\u001b[1;32m-> 1000\u001b[0m     \u001b[39mreturn\u001b[39;00m _CURRENT_EXPERIMENT\u001b[39m.\u001b[39;49mcreate_model(\n\u001b[0;32m   1001\u001b[0m         estimator\u001b[39m=\u001b[39;49mestimator,\n\u001b[0;32m   1002\u001b[0m         fold\u001b[39m=\u001b[39;49mfold,\n\u001b[0;32m   1003\u001b[0m         \u001b[39mround\u001b[39;49m\u001b[39m=\u001b[39;49m\u001b[39mround\u001b[39;49m,\n\u001b[0;32m   1004\u001b[0m         cross_validation\u001b[39m=\u001b[39;49mcross_validation,\n\u001b[0;32m   1005\u001b[0m         fit_kwargs\u001b[39m=\u001b[39;49mfit_kwargs,\n\u001b[0;32m   1006\u001b[0m         groups\u001b[39m=\u001b[39;49mgroups,\n\u001b[0;32m   1007\u001b[0m         experiment_custom_tags\u001b[39m=\u001b[39;49mexperiment_custom_tags,\n\u001b[0;32m   1008\u001b[0m         engine\u001b[39m=\u001b[39;49mengine,\n\u001b[0;32m   1009\u001b[0m         verbose\u001b[39m=\u001b[39;49mverbose,\n\u001b[0;32m   1010\u001b[0m         return_train_score\u001b[39m=\u001b[39;49mreturn_train_score,\n\u001b[0;32m   1011\u001b[0m         \u001b[39m*\u001b[39;49m\u001b[39m*\u001b[39;49mkwargs,\n\u001b[0;32m   1012\u001b[0m     )\n",
      "File \u001b[1;32mc:\\Users\\acost\\miniconda3\\envs\\cs4347\\lib\\site-packages\\pycaret\\regression\\oop.py:1296\u001b[0m, in \u001b[0;36mRegressionExperiment.create_model\u001b[1;34m(self, estimator, fold, round, cross_validation, fit_kwargs, groups, experiment_custom_tags, engine, verbose, return_train_score, **kwargs)\u001b[0m\n\u001b[0;32m   1293\u001b[0m     \u001b[39mself\u001b[39m\u001b[39m.\u001b[39m_set_engine(estimator\u001b[39m=\u001b[39mestimator, engine\u001b[39m=\u001b[39mengine, severity\u001b[39m=\u001b[39m\u001b[39m\"\u001b[39m\u001b[39merror\u001b[39m\u001b[39m\"\u001b[39m)\n\u001b[0;32m   1295\u001b[0m \u001b[39mtry\u001b[39;00m:\n\u001b[1;32m-> 1296\u001b[0m     return_values \u001b[39m=\u001b[39m \u001b[39msuper\u001b[39;49m()\u001b[39m.\u001b[39;49mcreate_model(\n\u001b[0;32m   1297\u001b[0m         estimator\u001b[39m=\u001b[39;49mestimator,\n\u001b[0;32m   1298\u001b[0m         fold\u001b[39m=\u001b[39;49mfold,\n\u001b[0;32m   1299\u001b[0m         \u001b[39mround\u001b[39;49m\u001b[39m=\u001b[39;49m\u001b[39mround\u001b[39;49m,\n\u001b[0;32m   1300\u001b[0m         cross_validation\u001b[39m=\u001b[39;49mcross_validation,\n\u001b[0;32m   1301\u001b[0m         fit_kwargs\u001b[39m=\u001b[39;49mfit_kwargs,\n\u001b[0;32m   1302\u001b[0m         groups\u001b[39m=\u001b[39;49mgroups,\n\u001b[0;32m   1303\u001b[0m         experiment_custom_tags\u001b[39m=\u001b[39;49mexperiment_custom_tags,\n\u001b[0;32m   1304\u001b[0m         verbose\u001b[39m=\u001b[39;49mverbose,\n\u001b[0;32m   1305\u001b[0m         return_train_score\u001b[39m=\u001b[39;49mreturn_train_score,\n\u001b[0;32m   1306\u001b[0m         \u001b[39m*\u001b[39;49m\u001b[39m*\u001b[39;49mkwargs,\n\u001b[0;32m   1307\u001b[0m     )\n\u001b[0;32m   1308\u001b[0m \u001b[39mfinally\u001b[39;00m:\n\u001b[0;32m   1309\u001b[0m     \u001b[39mif\u001b[39;00m engine \u001b[39mis\u001b[39;00m \u001b[39mnot\u001b[39;00m \u001b[39mNone\u001b[39;00m:\n\u001b[0;32m   1310\u001b[0m         \u001b[39m# Reset the models back to the default engines\u001b[39;00m\n",
      "File \u001b[1;32mc:\\Users\\acost\\miniconda3\\envs\\cs4347\\lib\\site-packages\\pycaret\\internal\\pycaret_experiment\\supervised_experiment.py:1756\u001b[0m, in \u001b[0;36m_SupervisedExperiment.create_model\u001b[1;34m(self, estimator, fold, round, cross_validation, predict, fit_kwargs, groups, refit, probability_threshold, experiment_custom_tags, verbose, return_train_score, **kwargs)\u001b[0m\n\u001b[0;32m   1744\u001b[0m \u001b[39m# TODO improve error message\u001b[39;00m\n\u001b[0;32m   1745\u001b[0m \u001b[39massert\u001b[39;00m \u001b[39mnot\u001b[39;00m \u001b[39many\u001b[39m(\n\u001b[0;32m   1746\u001b[0m     x\n\u001b[0;32m   1747\u001b[0m     \u001b[39min\u001b[39;00m (\n\u001b[1;32m   (...)\u001b[0m\n\u001b[0;32m   1754\u001b[0m     \u001b[39mfor\u001b[39;00m x \u001b[39min\u001b[39;00m kwargs\n\u001b[0;32m   1755\u001b[0m )\n\u001b[1;32m-> 1756\u001b[0m \u001b[39mreturn\u001b[39;00m \u001b[39mself\u001b[39;49m\u001b[39m.\u001b[39;49m_create_model(\n\u001b[0;32m   1757\u001b[0m     estimator\u001b[39m=\u001b[39;49mestimator,\n\u001b[0;32m   1758\u001b[0m     fold\u001b[39m=\u001b[39;49mfold,\n\u001b[0;32m   1759\u001b[0m     \u001b[39mround\u001b[39;49m\u001b[39m=\u001b[39;49m\u001b[39mround\u001b[39;49m,\n\u001b[0;32m   1760\u001b[0m     cross_validation\u001b[39m=\u001b[39;49mcross_validation,\n\u001b[0;32m   1761\u001b[0m     predict\u001b[39m=\u001b[39;49mpredict,\n\u001b[0;32m   1762\u001b[0m     fit_kwargs\u001b[39m=\u001b[39;49mfit_kwargs,\n\u001b[0;32m   1763\u001b[0m     groups\u001b[39m=\u001b[39;49mgroups,\n\u001b[0;32m   1764\u001b[0m     refit\u001b[39m=\u001b[39;49mrefit,\n\u001b[0;32m   1765\u001b[0m     probability_threshold\u001b[39m=\u001b[39;49mprobability_threshold,\n\u001b[0;32m   1766\u001b[0m     experiment_custom_tags\u001b[39m=\u001b[39;49mexperiment_custom_tags,\n\u001b[0;32m   1767\u001b[0m     verbose\u001b[39m=\u001b[39;49mverbose,\n\u001b[0;32m   1768\u001b[0m     return_train_score\u001b[39m=\u001b[39;49mreturn_train_score,\n\u001b[0;32m   1769\u001b[0m     \u001b[39m*\u001b[39;49m\u001b[39m*\u001b[39;49mkwargs,\n\u001b[0;32m   1770\u001b[0m )\n",
      "File \u001b[1;32mc:\\Users\\acost\\miniconda3\\envs\\cs4347\\lib\\site-packages\\pycaret\\internal\\pycaret_experiment\\supervised_experiment.py:1331\u001b[0m, in \u001b[0;36m_SupervisedExperiment._create_model\u001b[1;34m(self, estimator, fold, round, cross_validation, predict, fit_kwargs, groups, refit, probability_threshold, experiment_custom_tags, verbose, system, add_to_model_list, X_train_data, y_train_data, metrics, display, model_only, return_train_score, **kwargs)\u001b[0m\n\u001b[0;32m   1329\u001b[0m \u001b[39mif\u001b[39;00m \u001b[39misinstance\u001b[39m(estimator, \u001b[39mstr\u001b[39m):\n\u001b[0;32m   1330\u001b[0m     \u001b[39mif\u001b[39;00m estimator \u001b[39mnot\u001b[39;00m \u001b[39min\u001b[39;00m available_estimators:\n\u001b[1;32m-> 1331\u001b[0m         \u001b[39mraise\u001b[39;00m \u001b[39mValueError\u001b[39;00m(\n\u001b[0;32m   1332\u001b[0m             \u001b[39mf\u001b[39m\u001b[39m\"\u001b[39m\u001b[39mEstimator \u001b[39m\u001b[39m{\u001b[39;00mestimator\u001b[39m}\u001b[39;00m\u001b[39m not available. Please see docstring for list of available estimators.\u001b[39m\u001b[39m\"\u001b[39m\n\u001b[0;32m   1333\u001b[0m         )\n\u001b[0;32m   1334\u001b[0m \u001b[39melif\u001b[39;00m \u001b[39mnot\u001b[39;00m \u001b[39mhasattr\u001b[39m(estimator, \u001b[39m\"\u001b[39m\u001b[39mfit\u001b[39m\u001b[39m\"\u001b[39m):\n\u001b[0;32m   1335\u001b[0m     \u001b[39mraise\u001b[39;00m \u001b[39mValueError\u001b[39;00m(\n\u001b[0;32m   1336\u001b[0m         \u001b[39mf\u001b[39m\u001b[39m\"\u001b[39m\u001b[39mEstimator \u001b[39m\u001b[39m{\u001b[39;00mestimator\u001b[39m}\u001b[39;00m\u001b[39m does not have the required fit() method.\u001b[39m\u001b[39m\"\u001b[39m\n\u001b[0;32m   1337\u001b[0m     )\n",
      "\u001b[1;31mValueError\u001b[0m: Estimator lgbmr not available. Please see docstring for list of available estimators."
     ]
    }
   ],
   "source": [
    "lgbmr = LGBMRegressor(random_state=42)\n",
    "LBGMR_best = create_model('lgbmr')\n",
    "# gboost_best = create_model('GradientBoostingRegressor')\n",
    "# elastic_nest_best = create_model('ElasticNet')\n",
    "# ex_trees_best = create_model('ExtraTreesRegressor')\n",
    "# rand_for_best = create_model('RandomForestRegressor')\n",
    "evaluate_model(LBGMR_best)\n",
    "# evaluate_model(gboost_best)\n",
    "# evaluate_model(elastic_nest_best)\n",
    "# evaluate_model(ex_trees_best)\n",
    "# evaluate_model(rand_for_best)"
   ]
  },
  {
   "attachments": {},
   "cell_type": "markdown",
   "metadata": {},
   "source": [
    "# Target Transformation"
   ]
  },
  {
   "cell_type": "code",
   "execution_count": null,
   "metadata": {},
   "outputs": [],
   "source": [
    "np.log(target).hist()"
   ]
  },
  {
   "cell_type": "code",
   "execution_count": null,
   "metadata": {},
   "outputs": [],
   "source": [
    "log_target = np.log(target)\n",
    "log_target"
   ]
  },
  {
   "cell_type": "code",
   "execution_count": null,
   "metadata": {},
   "outputs": [],
   "source": [
    "train_done = data5.loc[:1459, :].copy()\n",
    "train_done"
   ]
  },
  {
   "cell_type": "code",
   "execution_count": null,
   "metadata": {},
   "outputs": [],
   "source": [
    "test_done = data5.loc[1459:, :].reset_index(drop=True).copy()\n",
    "test_done"
   ]
  },
  {
   "cell_type": "code",
   "execution_count": null,
   "metadata": {},
   "outputs": [],
   "source": [
    "test_log_target = pd.concat([test_done, log_target], axis=1)\n",
    "print(test_log_target)\n",
    "test_log_target"
   ]
  },
  {
   "attachments": {},
   "cell_type": "markdown",
   "metadata": {},
   "source": [
    "# Linear Regression"
   ]
  },
  {
   "cell_type": "code",
   "execution_count": null,
   "metadata": {},
   "outputs": [],
   "source": [
    "from sklearn.linear_model import LinearRegression\n",
    "from sklearn.neighbors import KNeighborsRegressor\n",
    "from sklearn.tree import DecisionTreeRegressor\n",
    "from sklearn.metrics import mean_squared_error, r2_score\n",
    "\n",
    "lr = LinearRegression()\n",
    "knn_reg = KNeighborsRegressor(metric=\"euclidean\",n_neighbors=5)\n",
    "tree = DecisionTreeRegressor(max_depth=5)\n",
    "\n",
    "\n",
    "X_train, X_test, y_train, y_test = train_test_split(train_done, log_target, \n",
    "                                                    test_size=0.3, \n",
    "                                                    random_state=43, \n",
    "                                                    shuffle=True)\n",
    "\n",
    "lr.fit(X_train, y_train)\n",
    "knn_reg.fit(X_train, y_train)\n",
    "tree.fit(X_train, y_train)\n",
    "\n",
    "ylr_pred = lr.predict(X_test)\n",
    "yknn_pred = knn_reg.predict(X_test)\n",
    "ytree_pred = tree.predict(X_test)\n",
    "\n",
    "ylr_pred = lr.predict(X_test)\n",
    "yknn_pred = knn_reg.predict(X_test)\n",
    "ytree_pred = tree.predict(X_test)\n",
    "#ylr_pred = np.exp(ylr_pred)\n",
    "r2_score(ylr_pred, y_test)\n",
    "# rsme = np.sqrt(mean_squared_error(target, ylr_pred))"
   ]
  },
  {
   "cell_type": "code",
   "execution_count": null,
   "metadata": {},
   "outputs": [],
   "source": [
    "from sklearn.ensemble import GradientBoostingRegressor\n",
    "\n",
    "\n",
    "\n",
    "X_train, X_test, y_train, y_test = \\\n",
    "    train_test_split(train_done, log_target, test_size=0.25, random_state=12)\n",
    "\n",
    "X_train, X_val, y_train, y_val = \\\n",
    "    train_test_split(X_train, y_train, test_size=0.25, random_state=12)\n",
    "\n",
    "boost = GradientBoostingRegressor(\n",
    "    learning_rate=0.1,\n",
    "    n_estimators=500,\n",
    "    max_depth=8,\n",
    "    random_state=1)\n",
    "\n",
    "boost.fit(X_train, y_train)\n",
    "\n",
    "print(\"Training Accuracy: %0.2f\" % boost.score(X_train, y_train))\n",
    "print(\"Validation Accuracy: %0.2f\" % boost.score(X_val, y_val))\n",
    "print(\"Test Accuracy: %0.2f\" % boost.score(X_test, y_test))\n",
    "\n"
   ]
  },
  {
   "cell_type": "code",
   "execution_count": null,
   "metadata": {},
   "outputs": [],
   "source": [
    "from sklearn import model_selection\n",
    "from sklearn.tree import DecisionTreeRegressor\n",
    "from sklearn.model_selection import train_test_split\n",
    "from sklearn.ensemble import AdaBoostClassifier\n",
    "\n",
    "\n",
    "X_train, X_test, y_train, y_test = \\\n",
    "    train_test_split(train_done, log_target, test_size=0.25, random_state=12)\n",
    "\n",
    "X_train, X_val, y_train, y_val = \\\n",
    "    train_test_split(X_train, y_train, test_size=0.25, random_state=12)\n",
    "\n",
    "print('Train/Valid/Test sizes:', y_train.shape[0], y_val.shape[0], y_test.shape[0])\n",
    "\n",
    "tree = DecisionTreeRegressor(\n",
    "                              random_state=1,\n",
    "                              max_depth=1)\n",
    "\n",
    "\n",
    "boost = AdaBoostClassifier(estimator=tree,\n",
    "                           n_estimators=500,\n",
    "                           algorithm='SAMME',\n",
    "                           #n_jobs=1,\n",
    "                           random_state=1)\n",
    "\n",
    "boost.fit(X_train, y_train)\n",
    "\n",
    "print(\"Training Accuracy: %0.2f\" % boost.score(X_train, y_train))\n",
    "print(\"Validation Accuracy: %0.2f\" % boost.score(X_val, y_val))\n",
    "print(\"Test Accuracy: %0.2f\" % boost.score(X_test, y_test))\n"
   ]
  }
 ],
 "metadata": {
  "kernelspec": {
   "display_name": "cs4347",
   "language": "python",
   "name": "python3"
  },
  "language_info": {
   "codemirror_mode": {
    "name": "ipython",
    "version": 3
   },
   "file_extension": ".py",
   "mimetype": "text/x-python",
   "name": "python",
   "nbconvert_exporter": "python",
   "pygments_lexer": "ipython3",
   "version": "3.8.16"
  },
  "orig_nbformat": 4
 },
 "nbformat": 4,
 "nbformat_minor": 2
}
